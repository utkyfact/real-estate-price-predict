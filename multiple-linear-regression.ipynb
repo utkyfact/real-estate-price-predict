{
 "cells": [
  {
   "cell_type": "code",
   "execution_count": 1,
   "id": "2399c1a8",
   "metadata": {},
   "outputs": [],
   "source": [
    "import pandas as pd\n",
    "import matplotlib.pyplot as plt\n",
    "from sklearn import linear_model\n",
    "import pickle"
   ]
  },
  {
   "cell_type": "code",
   "execution_count": null,
   "id": "c84095b0",
   "metadata": {},
   "outputs": [],
   "source": [
    "df = pd.read_csv(\"multilinearregression.csv\", sep= \";\")\n",
    "df"
   ]
  },
  {
   "cell_type": "code",
   "execution_count": null,
   "id": "decc2759",
   "metadata": {},
   "outputs": [],
   "source": [
    "reg = linear_model.LinearRegression()\n",
    "reg.fit(df[[\"alan\",\"odasayisi\",\"binayasi\"]].values, df[\"fiyat\"])\n",
    "predictions = reg.predict([[355,3,20], [230,6,0], [230,4,10]])\n",
    "prediction = predictions.copy()"
   ]
  },
  {
   "cell_type": "code",
   "execution_count": null,
   "id": "4e140c83",
   "metadata": {},
   "outputs": [],
   "source": [
    "prediction = [round(x, 2) for x in prediction]\n",
    "for predict in prediction:\n",
    "    print(\"{:,}\".format(predict))"
   ]
  },
  {
   "cell_type": "code",
   "execution_count": null,
   "id": "8504c00c",
   "metadata": {},
   "outputs": [],
   "source": [
    "reg.coef_"
   ]
  },
  {
   "cell_type": "code",
   "execution_count": null,
   "id": "bc99a280",
   "metadata": {},
   "outputs": [],
   "source": [
    "reg.intercept_"
   ]
  },
  {
   "cell_type": "code",
   "execution_count": null,
   "id": "997f61ce",
   "metadata": {},
   "outputs": [],
   "source": [
    "# y = a + b1*x1 + b2*x2 + b3*x3 + ......\n",
    "# sağlaması\n",
    "a = reg.intercept_\n",
    "b1 = reg.coef_[0]\n",
    "b2 = reg.coef_[1]\n",
    "b3 = reg.coef_[2]\n",
    "\n",
    "x1 = 355\n",
    "x2 = 3\n",
    "x3 = 20\n",
    "\n",
    "y = a + b1*x1 + b2*x2 + b3*x3\n",
    "\n",
    "y"
   ]
  },
  {
   "cell_type": "code",
   "execution_count": null,
   "id": "858b7e3e",
   "metadata": {},
   "outputs": [],
   "source": []
  },
  {
   "cell_type": "code",
   "execution_count": null,
   "id": "a98a8b10",
   "metadata": {},
   "outputs": [],
   "source": [
    "import pickle"
   ]
  },
  {
   "cell_type": "code",
   "execution_count": null,
   "id": "1fee1446",
   "metadata": {},
   "outputs": [],
   "source": [
    "model_dosyasi = \"EvFiyatTahmini_MLR_Model.pickle\""
   ]
  },
  {
   "cell_type": "code",
   "execution_count": null,
   "id": "de149033",
   "metadata": {},
   "outputs": [],
   "source": [
    "pickle.dump(reg, open(model_dosyasi, \"wb\"))"
   ]
  }
 ],
 "metadata": {
  "kernelspec": {
   "display_name": "Python 3 (ipykernel)",
   "language": "python",
   "name": "python3"
  },
  "language_info": {
   "codemirror_mode": {
    "name": "ipython",
    "version": 3
   },
   "file_extension": ".py",
   "mimetype": "text/x-python",
   "name": "python",
   "nbconvert_exporter": "python",
   "pygments_lexer": "ipython3",
   "version": "3.11.5"
  }
 },
 "nbformat": 4,
 "nbformat_minor": 5
}
